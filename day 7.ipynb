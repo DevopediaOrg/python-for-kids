{
 "cells": [
  {
   "cell_type": "code",
   "execution_count": 1,
   "id": "cfe5d7ea",
   "metadata": {},
   "outputs": [],
   "source": [
    "class Things:\n",
    "    pass"
   ]
  },
  {
   "cell_type": "code",
   "execution_count": 3,
   "id": "d62c5b9f",
   "metadata": {},
   "outputs": [],
   "source": [
    "class Inanimate(Things):\n",
    "    pass"
   ]
  },
  {
   "cell_type": "code",
   "execution_count": 4,
   "id": "979b7f3d",
   "metadata": {},
   "outputs": [],
   "source": [
    "class Animate(Things):\n",
    "    pass"
   ]
  },
  {
   "cell_type": "code",
   "execution_count": 5,
   "id": "4a4dc916",
   "metadata": {},
   "outputs": [],
   "source": [
    "class Sidewalks(Inanimate):\n",
    "    pass"
   ]
  },
  {
   "cell_type": "code",
   "execution_count": 6,
   "id": "48dcb9b9",
   "metadata": {},
   "outputs": [],
   "source": [
    "class Animals(Animate):\n",
    "    pass"
   ]
  },
  {
   "cell_type": "code",
   "execution_count": 7,
   "id": "f3d7a438",
   "metadata": {},
   "outputs": [],
   "source": [
    "class Mammals(Animals):\n",
    "    pass"
   ]
  },
  {
   "cell_type": "code",
   "execution_count": 8,
   "id": "f99c48bf",
   "metadata": {},
   "outputs": [],
   "source": [
    "class Giraffes(Mammals):\n",
    "    pass"
   ]
  },
  {
   "cell_type": "code",
   "execution_count": 9,
   "id": "5fdcacc2",
   "metadata": {},
   "outputs": [],
   "source": [
    "reginald = Giraffes()"
   ]
  },
  {
   "cell_type": "code",
   "execution_count": 10,
   "id": "88bac1be",
   "metadata": {},
   "outputs": [],
   "source": [
    "def this_is_a_normal_function():\n",
    "    print('I am a normal function')"
   ]
  },
  {
   "cell_type": "code",
   "execution_count": 11,
   "id": "5bd8cb94",
   "metadata": {},
   "outputs": [],
   "source": [
    "class ThisIsMySillyClass:\n",
    "\tdef this_is_a_class_function():\n",
    "\t\tprint('I am a class function')\n",
    "\tdef this_is_also_a_class_function():\n",
    "\t\tprint('I am also a class function. See?')"
   ]
  },
  {
   "cell_type": "code",
   "execution_count": 12,
   "id": "48014c9e",
   "metadata": {},
   "outputs": [],
   "source": [
    "class Animals(Animate):\n",
    "\tdef breathe(self):\n",
    "\t\tpass\n",
    "\tdef move(self):\n",
    "\t\tpass\n",
    "\tdef eat_food(self):\n",
    "\t\tpass"
   ]
  },
  {
   "cell_type": "code",
   "execution_count": 13,
   "id": "b1d07bb2",
   "metadata": {},
   "outputs": [],
   "source": [
    "class Mammals(Animals):\n",
    "\tdef feed_young_with_milk(self):\n",
    "\t\tpass"
   ]
  },
  {
   "cell_type": "code",
   "execution_count": 14,
   "id": "4d360081",
   "metadata": {},
   "outputs": [],
   "source": [
    "class Giraffes(Mammals):\n",
    "\tdef eat_leaves_from_trees(self):\n",
    "\t\tpass"
   ]
  },
  {
   "cell_type": "code",
   "execution_count": 18,
   "id": "5d96436a",
   "metadata": {},
   "outputs": [],
   "source": [
    "reginald = Giraffes()"
   ]
  },
  {
   "cell_type": "code",
   "execution_count": 19,
   "id": "1c8d5f04",
   "metadata": {},
   "outputs": [],
   "source": [
    "reginald = Giraffes()\n",
    "reginald.move()\n",
    "reginald.eat_leaves_from_trees()"
   ]
  },
  {
   "cell_type": "code",
   "execution_count": null,
   "id": "5d0e9954",
   "metadata": {},
   "outputs": [],
   "source": []
  }
 ],
 "metadata": {
  "kernelspec": {
   "display_name": "Python 3 (ipykernel)",
   "language": "python",
   "name": "python3"
  },
  "language_info": {
   "codemirror_mode": {
    "name": "ipython",
    "version": 3
   },
   "file_extension": ".py",
   "mimetype": "text/x-python",
   "name": "python",
   "nbconvert_exporter": "python",
   "pygments_lexer": "ipython3",
   "version": "3.10.9"
  }
 },
 "nbformat": 4,
 "nbformat_minor": 5
}
